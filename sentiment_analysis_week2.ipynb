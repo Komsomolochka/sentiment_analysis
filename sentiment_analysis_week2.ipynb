{
  "nbformat": 4,
  "nbformat_minor": 0,
  "metadata": {
    "colab": {
      "name": "sentiment_analysis_week2.ipynb",
      "provenance": [],
      "authorship_tag": "ABX9TyMRFlWRQ15OCNvZs3FxBLdl",
      "include_colab_link": true
    },
    "kernelspec": {
      "name": "python3",
      "display_name": "Python 3"
    },
    "language_info": {
      "name": "python"
    }
  },
  "cells": [
    {
      "cell_type": "markdown",
      "metadata": {
        "id": "view-in-github",
        "colab_type": "text"
      },
      "source": [
        "<a href=\"https://colab.research.google.com/github/Komsomolochka/sentiment_analysis/blob/main/sentiment_analysis_week2.ipynb\" target=\"_parent\"><img src=\"https://colab.research.google.com/assets/colab-badge.svg\" alt=\"Open In Colab\"/></a>"
      ]
    },
    {
      "cell_type": "code",
      "execution_count": 29,
      "metadata": {
        "id": "GiwihKN2Bmq4"
      },
      "outputs": [],
      "source": [
        "from nltk.corpus import movie_reviews\n",
        "from sklearn.feature_extraction.text import CountVectorizer\n",
        "from sklearn.feature_extraction.text import TfidfVectorizer \n",
        "from sklearn.pipeline import Pipeline\n",
        "from sklearn.linear_model import LogisticRegression\n",
        "from sklearn.linear_model import SGDClassifier\n",
        "from sklearn.model_selection import cross_val_score\n",
        "from sklearn.svm import LinearSVC\n",
        "import numpy as np\n",
        "import pandas as pd"
      ]
    },
    {
      "cell_type": "code",
      "source": [
        "import nltk\n",
        "nltk.download('movie_reviews')\n"
      ],
      "metadata": {
        "colab": {
          "base_uri": "https://localhost:8080/"
        },
        "id": "lhe28-N5CDbC",
        "outputId": "41aaf43f-f237-42fc-ce74-f0ccbe1f7641"
      },
      "execution_count": 2,
      "outputs": [
        {
          "output_type": "stream",
          "name": "stdout",
          "text": [
            "[nltk_data] Downloading package movie_reviews to /root/nltk_data...\n",
            "[nltk_data]   Unzipping corpora/movie_reviews.zip.\n"
          ]
        },
        {
          "output_type": "execute_result",
          "data": {
            "text/plain": [
              "True"
            ]
          },
          "metadata": {},
          "execution_count": 2
        }
      ]
    },
    {
      "cell_type": "code",
      "source": [
        "def write_answer(file_name, *answer):\n",
        "    print(*answer, file=open(file_name, \"w\"))"
      ],
      "metadata": {
        "id": "tf0zRxxJSnQF"
      },
      "execution_count": 3,
      "outputs": []
    },
    {
      "cell_type": "code",
      "source": [
        "#id позитивных и негативных отзывов\n",
        "negids = movie_reviews.fileids('neg')\n",
        "posids = movie_reviews.fileids('pos')"
      ],
      "metadata": {
        "id": "zoweZw-VBnfO"
      },
      "execution_count": 4,
      "outputs": []
    },
    {
      "cell_type": "code",
      "source": [
        "#списки позитивных и негативных отзывов\n",
        "negfeats = [\" \".join(movie_reviews.words(fileids=[f])) for f in negids]\n",
        "posfeats = [\" \".join(movie_reviews.words(fileids=[f])) for f in posids]"
      ],
      "metadata": {
        "id": "zyzNDKCXBsdh"
      },
      "execution_count": 5,
      "outputs": []
    },
    {
      "cell_type": "code",
      "source": [
        "target = len(negids) * [0] + len(posids) * [1] "
      ],
      "metadata": {
        "id": "xiS9SloeO1Y-"
      },
      "execution_count": 6,
      "outputs": []
    },
    {
      "cell_type": "code",
      "source": [
        "text = negfeats + posfeats"
      ],
      "metadata": {
        "id": "Nd4ydWvAP5Jr"
      },
      "execution_count": 7,
      "outputs": []
    },
    {
      "cell_type": "markdown",
      "source": [
        "1. Здесь и далее оценка качества будет выполняться с помощью cross_val_score с cv=5 и остальными параметрами по умолчанию. Оцените среднее качество ( .mean() ) и стандартное отклонение ( .std() ) по fold'ам для: а) pipeline из CountVectorizer() и LogisticRegression(), б) pipeline из TfidfVectorizer() и LogisticRegression(). В соответствующем пункте задания выпишите через пробел среднее в п. а, отклонение в п. а, среднее в п.б и отклонение в п. б\n"
      ],
      "metadata": {
        "id": "wKOkqvvDfew5"
      }
    },
    {
      "cell_type": "code",
      "source": [
        "pipeline_count = Pipeline([('vectorizer', CountVectorizer()),('classifier', LogisticRegression(max_iter=1000))])"
      ],
      "metadata": {
        "id": "0bGBH5qbS9US"
      },
      "execution_count": 11,
      "outputs": []
    },
    {
      "cell_type": "code",
      "source": [
        "text_cv_count = cross_val_score(pipeline_count, text, target, cv=5)"
      ],
      "metadata": {
        "id": "avPKXYwuTvZ7"
      },
      "execution_count": 13,
      "outputs": []
    },
    {
      "cell_type": "code",
      "source": [
        "text_cv_count.mean(), text_cv_count.std()"
      ],
      "metadata": {
        "colab": {
          "base_uri": "https://localhost:8080/"
        },
        "id": "dmQ4hpytgTXm",
        "outputId": "df5daf60-791b-43f5-9154-30a500b84f83"
      },
      "execution_count": 14,
      "outputs": [
        {
          "output_type": "execute_result",
          "data": {
            "text/plain": [
              "(0.8445, 0.024617067250182322)"
            ]
          },
          "metadata": {},
          "execution_count": 14
        }
      ]
    },
    {
      "cell_type": "code",
      "source": [
        "pipeline_tfidf = Pipeline([('vectorizer', TfidfVectorizer()),('classifier', LogisticRegression(max_iter=1000))])"
      ],
      "metadata": {
        "id": "lQi3zMbkgfVh"
      },
      "execution_count": 15,
      "outputs": []
    },
    {
      "cell_type": "code",
      "source": [
        "text_cv_tfidf = cross_val_score(pipeline_tfidf, text, target, cv=5)"
      ],
      "metadata": {
        "id": "eqCnxJy9gnVY"
      },
      "execution_count": 16,
      "outputs": []
    },
    {
      "cell_type": "code",
      "source": [
        "text_cv_tfidf.mean(), text_cv_tfidf.std()"
      ],
      "metadata": {
        "colab": {
          "base_uri": "https://localhost:8080/"
        },
        "id": "I8aWQjk_gnXq",
        "outputId": "75c86b62-e913-44e5-8f36-8ff1c4ca2faf"
      },
      "execution_count": 17,
      "outputs": [
        {
          "output_type": "execute_result",
          "data": {
            "text/plain": [
              "(0.8205, 0.003999999999999995)"
            ]
          },
          "metadata": {},
          "execution_count": 17
        }
      ]
    },
    {
      "cell_type": "code",
      "source": [
        "write_answer('q1.txt', *(text_cv_count.mean(), text_cv_count.std(),text_cv_tfidf.mean(), text_cv_tfidf.std()))"
      ],
      "metadata": {
        "id": "nDfB0xNtgnbO"
      },
      "execution_count": 19,
      "outputs": []
    },
    {
      "cell_type": "markdown",
      "source": [
        "2. Попробуйте задавать разные значения параметра min_df у CountVectorizer. Оцените качество вашего классификатора с min_df=10 и с min_df=50."
      ],
      "metadata": {
        "id": "_wzCQFRDhPXN"
      }
    },
    {
      "cell_type": "code",
      "source": [
        "pipeline_count = Pipeline([('vectorizer', CountVectorizer(min_df=10)),('classifier', LogisticRegression(max_iter=1000))])\n",
        "cv_min_10 = cross_val_score(pipeline_count, text, target, cv=5)\n",
        "cv_min_10.mean()"
      ],
      "metadata": {
        "colab": {
          "base_uri": "https://localhost:8080/"
        },
        "id": "72xniivUhJ6h",
        "outputId": "49fe15ef-cc5f-4ff6-96d6-daf0a624648f"
      },
      "execution_count": 25,
      "outputs": [
        {
          "output_type": "execute_result",
          "data": {
            "text/plain": [
              "0.836"
            ]
          },
          "metadata": {},
          "execution_count": 25
        }
      ]
    },
    {
      "cell_type": "code",
      "source": [
        "pipeline_count = Pipeline([('vectorizer', CountVectorizer(min_df=50)),('classifier', LogisticRegression(max_iter=1000))])\n",
        "cv_min_50 = cross_val_score(pipeline_count, text, target, cv=5)\n",
        "cv_min_50.mean()"
      ],
      "metadata": {
        "colab": {
          "base_uri": "https://localhost:8080/"
        },
        "id": "x3lSWIgkhJ8r",
        "outputId": "5084179e-74de-4518-a731-6320f8adb5bc"
      },
      "execution_count": 28,
      "outputs": [
        {
          "output_type": "execute_result",
          "data": {
            "text/plain": [
              "0.8095000000000001"
            ]
          },
          "metadata": {},
          "execution_count": 28
        }
      ]
    },
    {
      "cell_type": "code",
      "source": [
        "write_answer('q2.txt', *(cv_min_10.mean(), cv_min_50.mean()))"
      ],
      "metadata": {
        "id": "ynQj0bJhlGWq"
      },
      "execution_count": 35,
      "outputs": []
    },
    {
      "cell_type": "markdown",
      "source": [
        "Попробуйте использовать разные классификаторы после CountVectorizer. И vectorizer, и классификатор берите с параметрами по умолчанию. Сравните результаты для LogisticRegression, LinearSVC и SGDClassifier. Выпишите в ответе на соответствующий вопрос самое худшее качество из получившихся."
      ],
      "metadata": {
        "id": "d_8AObBLiZgx"
      }
    },
    {
      "cell_type": "code",
      "source": [
        "pipeline_count = Pipeline([('vectorizer', CountVectorizer()),('classifier', LogisticRegression(max_iter=1000))])\n",
        "lr_model = cross_val_score(pipeline_count, text, target, cv=5)\n",
        "lr_model.mean()"
      ],
      "metadata": {
        "colab": {
          "base_uri": "https://localhost:8080/"
        },
        "id": "cCddRSzXiEHe",
        "outputId": "4a59ee2a-938d-4cab-8233-44952872e862"
      },
      "execution_count": 30,
      "outputs": [
        {
          "output_type": "execute_result",
          "data": {
            "text/plain": [
              "0.8445"
            ]
          },
          "metadata": {},
          "execution_count": 30
        }
      ]
    },
    {
      "cell_type": "code",
      "source": [
        "pipeline_count = Pipeline([('vectorizer', CountVectorizer()),('classifier', LinearSVC(max_iter=10000))])\n",
        "svc_model = cross_val_score(pipeline_count, text, target, cv=5)\n",
        "svc_model.mean()"
      ],
      "metadata": {
        "colab": {
          "base_uri": "https://localhost:8080/"
        },
        "id": "wYDnwVK9iEJ8",
        "outputId": "c1e3c109-5b47-408f-b8d1-9b1963ad7149"
      },
      "execution_count": 33,
      "outputs": [
        {
          "output_type": "execute_result",
          "data": {
            "text/plain": [
              "0.8325000000000001"
            ]
          },
          "metadata": {},
          "execution_count": 33
        }
      ]
    },
    {
      "cell_type": "code",
      "source": [
        "pipeline_count = Pipeline([('vectorizer', CountVectorizer()),('classifier', SGDClassifier(max_iter=1000))])\n",
        "sgd_model = cross_val_score(pipeline_count, text, target, cv=5)\n",
        "sgd_model.mean()"
      ],
      "metadata": {
        "colab": {
          "base_uri": "https://localhost:8080/"
        },
        "id": "rmbGjifsiEMS",
        "outputId": "2bf2786d-8e98-4909-d072-d62747e6123c"
      },
      "execution_count": 34,
      "outputs": [
        {
          "output_type": "execute_result",
          "data": {
            "text/plain": [
              "0.8360000000000001"
            ]
          },
          "metadata": {},
          "execution_count": 34
        }
      ]
    },
    {
      "cell_type": "code",
      "source": [
        "write_answer('q3.txt', svc_model.mean())"
      ],
      "metadata": {
        "id": "cBSC1f7TiEO6"
      },
      "execution_count": 36,
      "outputs": []
    },
    {
      "cell_type": "markdown",
      "source": [
        "4. Подготовьте список стоп-слов с помощью nltk.corpus.stopwords.words('english'), посмотрите на его элементы, и передайте его в соответствующий параметр CountVectorizer. В sklearn также предусмотрен свой список английских стоп-слов - для этого нужно задать соответствующий параметр равным строке 'english'. Оцените качество классификатора в одном и другом случае и выпишете сначала качество в первом варианте, затем во втором в соответствующем вопросе."
      ],
      "metadata": {
        "id": "vIwQxosUmtHe"
      }
    },
    {
      "cell_type": "code",
      "source": [
        "import nltk\n",
        "nltk.download('stopwords')"
      ],
      "metadata": {
        "colab": {
          "base_uri": "https://localhost:8080/"
        },
        "id": "lrNOgxqvnr3m",
        "outputId": "6e30b833-ed6f-4918-9a83-7d188535cdaf"
      },
      "execution_count": 38,
      "outputs": [
        {
          "output_type": "stream",
          "name": "stdout",
          "text": [
            "[nltk_data] Downloading package stopwords to /root/nltk_data...\n",
            "[nltk_data]   Unzipping corpora/stopwords.zip.\n"
          ]
        },
        {
          "output_type": "execute_result",
          "data": {
            "text/plain": [
              "True"
            ]
          },
          "metadata": {},
          "execution_count": 38
        }
      ]
    },
    {
      "cell_type": "code",
      "source": [
        "stop_words = nltk.corpus.stopwords.words('english')"
      ],
      "metadata": {
        "id": "JwiB8357lrBF"
      },
      "execution_count": 41,
      "outputs": []
    },
    {
      "cell_type": "code",
      "source": [
        "print(stop_words, end=' ')"
      ],
      "metadata": {
        "colab": {
          "base_uri": "https://localhost:8080/"
        },
        "id": "DuDTncl8lrPq",
        "outputId": "e8fae3bc-4dcd-4146-b340-3b1a649eb393"
      },
      "execution_count": 43,
      "outputs": [
        {
          "output_type": "stream",
          "name": "stdout",
          "text": [
            "['i', 'me', 'my', 'myself', 'we', 'our', 'ours', 'ourselves', 'you', \"you're\", \"you've\", \"you'll\", \"you'd\", 'your', 'yours', 'yourself', 'yourselves', 'he', 'him', 'his', 'himself', 'she', \"she's\", 'her', 'hers', 'herself', 'it', \"it's\", 'its', 'itself', 'they', 'them', 'their', 'theirs', 'themselves', 'what', 'which', 'who', 'whom', 'this', 'that', \"that'll\", 'these', 'those', 'am', 'is', 'are', 'was', 'were', 'be', 'been', 'being', 'have', 'has', 'had', 'having', 'do', 'does', 'did', 'doing', 'a', 'an', 'the', 'and', 'but', 'if', 'or', 'because', 'as', 'until', 'while', 'of', 'at', 'by', 'for', 'with', 'about', 'against', 'between', 'into', 'through', 'during', 'before', 'after', 'above', 'below', 'to', 'from', 'up', 'down', 'in', 'out', 'on', 'off', 'over', 'under', 'again', 'further', 'then', 'once', 'here', 'there', 'when', 'where', 'why', 'how', 'all', 'any', 'both', 'each', 'few', 'more', 'most', 'other', 'some', 'such', 'no', 'nor', 'not', 'only', 'own', 'same', 'so', 'than', 'too', 'very', 's', 't', 'can', 'will', 'just', 'don', \"don't\", 'should', \"should've\", 'now', 'd', 'll', 'm', 'o', 're', 've', 'y', 'ain', 'aren', \"aren't\", 'couldn', \"couldn't\", 'didn', \"didn't\", 'doesn', \"doesn't\", 'hadn', \"hadn't\", 'hasn', \"hasn't\", 'haven', \"haven't\", 'isn', \"isn't\", 'ma', 'mightn', \"mightn't\", 'mustn', \"mustn't\", 'needn', \"needn't\", 'shan', \"shan't\", 'shouldn', \"shouldn't\", 'wasn', \"wasn't\", 'weren', \"weren't\", 'won', \"won't\", 'wouldn', \"wouldn't\"] "
          ]
        }
      ]
    },
    {
      "cell_type": "code",
      "source": [
        "pipeline_count = Pipeline([('vectorizer', CountVectorizer(stop_words=stop_words)),('classifier', LogisticRegression(max_iter=1000))])\n",
        "cv_stop_words = cross_val_score(pipeline_count, text, target, cv=5)\n",
        "cv_stop_words.mean()"
      ],
      "metadata": {
        "colab": {
          "base_uri": "https://localhost:8080/"
        },
        "id": "_7SKFHsclrSl",
        "outputId": "2bbd781f-dd55-4ab7-8978-d3627d19b2b3"
      },
      "execution_count": 46,
      "outputs": [
        {
          "output_type": "execute_result",
          "data": {
            "text/plain": [
              "0.8400000000000001"
            ]
          },
          "metadata": {},
          "execution_count": 46
        }
      ]
    },
    {
      "cell_type": "code",
      "source": [
        "pipeline_count = Pipeline([('vectorizer', CountVectorizer(stop_words='english')),('classifier', LogisticRegression(max_iter=1000))])\n",
        "cv_stop_words_sk = cross_val_score(pipeline_count, text, target, cv=5)\n",
        "cv_stop_words_sk.mean()"
      ],
      "metadata": {
        "colab": {
          "base_uri": "https://localhost:8080/"
        },
        "id": "AS7Y6CiVlrXA",
        "outputId": "2288dd28-9c30-4a6e-938a-216d52006605"
      },
      "execution_count": 47,
      "outputs": [
        {
          "output_type": "execute_result",
          "data": {
            "text/plain": [
              "0.8365"
            ]
          },
          "metadata": {},
          "execution_count": 47
        }
      ]
    },
    {
      "cell_type": "code",
      "source": [
        "write_answer('q4.txt', *(cv_stop_words.mean(),cv_stop_words_sk.mean()))"
      ],
      "metadata": {
        "id": "Gu4nO9oqiESm"
      },
      "execution_count": 48,
      "outputs": []
    },
    {
      "cell_type": "markdown",
      "source": [
        "5. Попробуйте в CountVectorizer добавить к словам биграммы и измерить качество модели. А затем постройте модель на частотах буквенных n-грамм c n от 3 до 5, указав соответствующее значение параметра ngram_range и параметр analyzer='char_wb'. Полученные два числа запишите через пробел в ответе на соответствующий вопрос."
      ],
      "metadata": {
        "id": "70KoFoQ8pXVL"
      }
    },
    {
      "cell_type": "code",
      "source": [
        "pipeline_count = Pipeline([('vectorizer', CountVectorizer(ngram_range = (1,2))),('classifier', LogisticRegression(max_iter=1000))])\n",
        "cv_2gram = cross_val_score(pipeline_count, text, target, cv=5)\n",
        "cv_2gram.mean()"
      ],
      "metadata": {
        "colab": {
          "base_uri": "https://localhost:8080/"
        },
        "id": "COgWuxm4pWRr",
        "outputId": "dea78ce8-a51e-4bce-d6a7-2e322aecdfea"
      },
      "execution_count": 49,
      "outputs": [
        {
          "output_type": "execute_result",
          "data": {
            "text/plain": [
              "0.8525"
            ]
          },
          "metadata": {},
          "execution_count": 49
        }
      ]
    },
    {
      "cell_type": "code",
      "source": [
        "pipeline_count = Pipeline([('vectorizer', CountVectorizer(ngram_range = (3,5), analyzer='char_wb')),('classifier', LogisticRegression(max_iter=1000))])\n",
        "cv_35gram = cross_val_score(pipeline_count, text, target, cv=5)\n",
        "cv_35gram.mean()"
      ],
      "metadata": {
        "colab": {
          "base_uri": "https://localhost:8080/"
        },
        "id": "xYtASnzrp5es",
        "outputId": "9762bd24-abcd-4cec-90dd-98952d4c69e1"
      },
      "execution_count": 50,
      "outputs": [
        {
          "output_type": "execute_result",
          "data": {
            "text/plain": [
              "0.8185"
            ]
          },
          "metadata": {},
          "execution_count": 50
        }
      ]
    },
    {
      "cell_type": "code",
      "source": [
        "write_answer('q5.txt', *(cv_2gram.mean(),cv_35gram.mean()))"
      ],
      "metadata": {
        "id": "4JTh4rfop5hV"
      },
      "execution_count": 51,
      "outputs": []
    }
  ]
}