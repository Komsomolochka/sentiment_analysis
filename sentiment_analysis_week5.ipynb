{
  "nbformat": 4,
  "nbformat_minor": 0,
  "metadata": {
    "colab": {
      "name": "sentiment_analysis_week5.ipynb",
      "provenance": [],
      "authorship_tag": "ABX9TyPVIHYzaQ2rmdljXBBWUoSU",
      "include_colab_link": true
    },
    "kernelspec": {
      "name": "python3",
      "display_name": "Python 3"
    },
    "language_info": {
      "name": "python"
    }
  },
  "cells": [
    {
      "cell_type": "markdown",
      "metadata": {
        "id": "view-in-github",
        "colab_type": "text"
      },
      "source": [
        "<a href=\"https://colab.research.google.com/github/Komsomolochka/sentiment_analysis/blob/main/sentiment_analysis_week5.ipynb\" target=\"_parent\"><img src=\"https://colab.research.google.com/assets/colab-badge.svg\" alt=\"Open In Colab\"/></a>"
      ]
    },
    {
      "cell_type": "markdown",
      "source": [
        "Чтобы продемонстрировать, что вы разобрались, как использовать requests и beautiful soup, распарсите: а) из статьи https://en.wikipedia.org/wiki/Bias-variance_tradeoff все заголовки верхнего уровня"
      ],
      "metadata": {
        "id": "R5AJb8CXE3v9"
      }
    },
    {
      "cell_type": "code",
      "source": [
        "import requests\n",
        "import bs4"
      ],
      "metadata": {
        "id": "z2mEWMjeE3-s"
      },
      "execution_count": 13,
      "outputs": []
    },
    {
      "cell_type": "code",
      "source": [
        "# делаем запрос\n",
        "req = requests.get('https://en.wikipedia.org/wiki/Bias-variance_tradeoff')"
      ],
      "metadata": {
        "id": "5P5X-MqjHeCi"
      },
      "execution_count": 24,
      "outputs": []
    },
    {
      "cell_type": "code",
      "source": [
        "# создаем парсер\n",
        "parser = bs4.BeautifulSoup(req.text, 'lxml')"
      ],
      "metadata": {
        "id": "sO3UyFPpH88n"
      },
      "execution_count": 25,
      "outputs": []
    },
    {
      "cell_type": "code",
      "source": [
        "# выбираем заголовки\n",
        "y = parser.select(\"h2 span.mw-headline\")"
      ],
      "metadata": {
        "id": "xYfyRi0YIE1_"
      },
      "execution_count": 26,
      "outputs": []
    },
    {
      "cell_type": "code",
      "source": [
        "# выводим данные\n",
        "i = 1\n",
        "for result in y:\n",
        "    print (i, result.text)\n",
        "    i += 1"
      ],
      "metadata": {
        "colab": {
          "base_uri": "https://localhost:8080/"
        },
        "id": "mN3YK_8pIE5T",
        "outputId": "7d6b5adc-245a-4b43-a0cd-998836494539"
      },
      "execution_count": 27,
      "outputs": [
        {
          "output_type": "stream",
          "name": "stdout",
          "text": [
            "1 Motivation\n",
            "2 Bias–variance decomposition of mean squared error\n",
            "3 Approaches\n",
            "4 Applications\n",
            "5 See also\n",
            "6 References\n",
            "7 External links\n"
          ]
        }
      ]
    },
    {
      "cell_type": "markdown",
      "source": [
        "б) со страницы https://en.wikipedia.org/wiki/Category:Machine_learning_algorithms названия всех статей в категории Machine Learning Algorithms"
      ],
      "metadata": {
        "id": "LeOhLheUITj5"
      }
    },
    {
      "cell_type": "code",
      "source": [
        "# делаем запрос\n",
        "req = requests.get('https://en.wikipedia.org/wiki/Category:Machine_learning_algorithms')"
      ],
      "metadata": {
        "id": "t8ZdtxEGIILz"
      },
      "execution_count": 28,
      "outputs": []
    },
    {
      "cell_type": "code",
      "source": [
        "# создаем парсер\n",
        "parser = bs4.BeautifulSoup(req.text, 'lxml')"
      ],
      "metadata": {
        "id": "TziwtxO-IYLS"
      },
      "execution_count": 29,
      "outputs": []
    },
    {
      "cell_type": "code",
      "source": [
        "# выбираем названия статей\n",
        "y = parser.select(\"div.mw-category-group ul li a\")"
      ],
      "metadata": {
        "id": "tfhIdbQIIaXa"
      },
      "execution_count": 32,
      "outputs": []
    },
    {
      "cell_type": "code",
      "source": [
        "# выводим данные\n",
        "i = 1\n",
        "for result in y:\n",
        "    print (i, result.text)\n",
        "    i += 1"
      ],
      "metadata": {
        "colab": {
          "base_uri": "https://localhost:8080/"
        },
        "id": "KxfFC3PZI7Bz",
        "outputId": "bdb9d594-e331-4488-8efd-12c72956a337"
      },
      "execution_count": 33,
      "outputs": [
        {
          "output_type": "stream",
          "name": "stdout",
          "text": [
            "1 Adagrad\n",
            "2 Algorithms of Oppression\n",
            "3 Almeida–Pineda recurrent backpropagation\n",
            "4 Augmented Analytics\n",
            "5 Backpropagation\n",
            "6 Bioz\n",
            "7 Bootstrap aggregating\n",
            "8 CN2 algorithm\n",
            "9 Constructing skill trees\n",
            "10 Deep reinforcement learning\n",
            "11 Dehaene–Changeux model\n",
            "12 Diffusion map\n",
            "13 Dominance-based rough set approach\n",
            "14 Dynamic time warping\n",
            "15 Elastic net regularization\n",
            "16 Error-driven learning\n",
            "17 Evolutionary multimodal optimization\n",
            "18 Expectation–maximization algorithm\n",
            "19 Extremal Ensemble Learning\n",
            "20 FastICA\n",
            "21 Federated Learning of Cohorts\n",
            "22 Forward–backward algorithm\n",
            "23 GeneRec\n",
            "24 Genetic Algorithm for Rule Set Production\n",
            "25 Growing self-organizing map\n",
            "26 Hyper basis function network\n",
            "27 IDistance\n",
            "28 Incremental learning\n",
            "29 K-nearest neighbors algorithm\n",
            "30 Kernel methods for vector output\n",
            "31 Kernel principal component analysis\n",
            "32 Label propagation algorithm\n",
            "33 Lasso (statistics)\n",
            "34 Leabra\n",
            "35 Linde–Buzo–Gray algorithm\n",
            "36 Local outlier factor\n",
            "37 Logic learning machine\n",
            "38 LogitBoost\n",
            "39 Loss functions for classification\n",
            "40 Manifold alignment\n",
            "41 Minimum redundancy feature selection\n",
            "42 Mixture of experts\n",
            "43 Multi expression programming\n",
            "44 Multiple kernel learning\n",
            "45 NarxCare\n",
            "46 Non-negative matrix factorization\n",
            "47 Online machine learning\n",
            "48 Out-of-bag error\n",
            "49 Prefrontal cortex basal ganglia working memory\n",
            "50 Prototype methods\n",
            "51 PVLV\n",
            "52 Q-learning\n",
            "53 Quadratic unconstrained binary optimization\n",
            "54 Query-level feature\n",
            "55 Quickprop\n",
            "56 Radial basis function network\n",
            "57 Randomized weighted majority algorithm\n",
            "58 Repeated incremental pruning to produce error reduction (RIPPER)\n",
            "59 Rprop\n",
            "60 Rule-based machine learning\n",
            "61 Skill chaining\n",
            "62 Sparse PCA\n",
            "63 State–action–reward–state–action\n",
            "64 Stochastic gradient descent\n",
            "65 Structured kNN\n",
            "66 T-distributed stochastic neighbor embedding\n",
            "67 Triplet loss\n",
            "68 Wake-sleep algorithm\n",
            "69 Weighted majority algorithm (machine learning)\n",
            "70 Zero-shot learning\n"
          ]
        }
      ]
    },
    {
      "cell_type": "code",
      "source": [
        ""
      ],
      "metadata": {
        "id": "SCwpycYII8F-"
      },
      "execution_count": null,
      "outputs": []
    }
  ]
}