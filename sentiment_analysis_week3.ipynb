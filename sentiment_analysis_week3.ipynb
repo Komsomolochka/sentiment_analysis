{
  "nbformat": 4,
  "nbformat_minor": 0,
  "metadata": {
    "colab": {
      "name": "sentiment_analysis_week3.ipynb",
      "provenance": [],
      "authorship_tag": "ABX9TyOgXlAP8s9ejc9gKiAG1FKq",
      "include_colab_link": true
    },
    "kernelspec": {
      "name": "python3",
      "display_name": "Python 3"
    },
    "language_info": {
      "name": "python"
    }
  },
  "cells": [
    {
      "cell_type": "markdown",
      "metadata": {
        "id": "view-in-github",
        "colab_type": "text"
      },
      "source": [
        "<a href=\"https://colab.research.google.com/github/Komsomolochka/sentiment_analysis/blob/main/sentiment_analysis_week3.ipynb\" target=\"_parent\"><img src=\"https://colab.research.google.com/assets/colab-badge.svg\" alt=\"Open In Colab\"/></a>"
      ]
    },
    {
      "cell_type": "code",
      "execution_count": null,
      "metadata": {
        "id": "jrbSttizQQ-Z"
      },
      "outputs": [],
      "source": [
        "from sklearn.feature_extraction.text import CountVectorizer\n",
        "from sklearn.feature_extraction.text import TfidfVectorizer \n",
        "from sklearn.pipeline import Pipeline\n",
        "from sklearn.linear_model import LogisticRegression\n",
        "from sklearn.linear_model import SGDClassifier\n",
        "from sklearn.model_selection import cross_val_score\n",
        "from sklearn.model_selection import GridSearchCV\n",
        "from sklearn.svm import LinearSVC\n",
        "from imblearn.over_sampling import RandomOverSampler\n",
        "import numpy as np\n",
        "import pandas as pd"
      ]
    },
    {
      "cell_type": "code",
      "source": [
        "train = pd.read_csv('/content/products_sentiment_train.tsv', header=None, sep=\"\\t\", names=['text','label'])"
      ],
      "metadata": {
        "id": "XRBFpzeVQTxu"
      },
      "execution_count": null,
      "outputs": []
    },
    {
      "cell_type": "code",
      "source": [
        "test = pd.read_csv('/content/products_sentiment_test.tsv', header=None, sep=\"\\t\", names=['text'])"
      ],
      "metadata": {
        "id": "yXQj3zYeQhfe"
      },
      "execution_count": null,
      "outputs": []
    },
    {
      "cell_type": "code",
      "source": [
        "X_train = train['text']\n",
        "y_train = train['label']"
      ],
      "metadata": {
        "id": "nOz06EVMRB93"
      },
      "execution_count": null,
      "outputs": []
    },
    {
      "cell_type": "code",
      "source": [
        "X_test = test['text']"
      ],
      "metadata": {
        "id": "Sr7SEl3TTTdb"
      },
      "execution_count": null,
      "outputs": []
    },
    {
      "cell_type": "code",
      "source": [
        "train['label'].value_counts()"
      ],
      "metadata": {
        "colab": {
          "base_uri": "https://localhost:8080/"
        },
        "id": "KVP6LzURfI6U",
        "outputId": "a85e559c-3fa6-459d-d51d-d2128f5ef919"
      },
      "execution_count": null,
      "outputs": [
        {
          "output_type": "execute_result",
          "data": {
            "text/plain": [
              "1    1274\n",
              "0     726\n",
              "Name: label, dtype: int64"
            ]
          },
          "metadata": {},
          "execution_count": 72
        }
      ]
    },
    {
      "cell_type": "code",
      "source": [
        "# сбалансируем выборку\n",
        "X_train = X_train.values.reshape(-1, 1)\n",
        "ros = RandomOverSampler()\n",
        "X_res, y_res = ros.fit_resample(X_train, y_train)"
      ],
      "metadata": {
        "id": "14drJHqCfk8l"
      },
      "execution_count": null,
      "outputs": []
    },
    {
      "cell_type": "code",
      "source": [
        "X_res = X_res.reshape(1,X_res.shape[0])[0]"
      ],
      "metadata": {
        "id": "PFYjbYs3jUiL"
      },
      "execution_count": null,
      "outputs": []
    },
    {
      "cell_type": "code",
      "source": [
        "# выбираем модель\n",
        "score_list = []\n",
        "for vectorizer in [CountVectorizer,TfidfVectorizer]:\n",
        "  for model in [LogisticRegression, LinearSVC, SGDClassifier]:\n",
        "    pipeline = Pipeline([('vectorizer', vectorizer()),('classifier', model(max_iter=10000))])\n",
        "    score = cross_val_score(pipeline, X_res, y_res).mean()\n",
        "    score_list.append(score)\n",
        "    print(str(vectorizer) +\" - \"+str(model))\n",
        "    print(score)\n",
        "    print(\"\\n\")\n",
        "\n"
      ],
      "metadata": {
        "colab": {
          "base_uri": "https://localhost:8080/"
        },
        "id": "n6vVLrWxhzau",
        "outputId": "b81390b2-b3ae-4cc0-f63d-4d35e0fb79b7"
      },
      "execution_count": null,
      "outputs": [
        {
          "output_type": "stream",
          "name": "stdout",
          "text": [
            "<class 'sklearn.feature_extraction.text.CountVectorizer'> - <class 'sklearn.linear_model._logistic.LogisticRegression'>\n",
            "0.8469694518278825\n",
            "\n",
            "\n",
            "<class 'sklearn.feature_extraction.text.CountVectorizer'> - <class 'sklearn.svm._classes.LinearSVC'>\n",
            "0.8477591586732925\n",
            "\n",
            "\n",
            "<class 'sklearn.feature_extraction.text.CountVectorizer'> - <class 'sklearn.linear_model._stochastic_gradient.SGDClassifier'>\n",
            "0.8410832466581917\n",
            "\n",
            "\n",
            "<class 'sklearn.feature_extraction.text.TfidfVectorizer'> - <class 'sklearn.linear_model._logistic.LogisticRegression'>\n",
            "0.8234161562463885\n",
            "\n",
            "\n",
            "<class 'sklearn.feature_extraction.text.TfidfVectorizer'> - <class 'sklearn.svm._classes.LinearSVC'>\n",
            "0.8493200816672445\n",
            "\n",
            "\n",
            "<class 'sklearn.feature_extraction.text.TfidfVectorizer'> - <class 'sklearn.linear_model._stochastic_gradient.SGDClassifier'>\n",
            "0.8454008243769021\n",
            "\n",
            "\n"
          ]
        }
      ]
    },
    {
      "cell_type": "code",
      "source": [
        "max(score_list)"
      ],
      "metadata": {
        "colab": {
          "base_uri": "https://localhost:8080/"
        },
        "id": "kSdBb_DMkK-y",
        "outputId": "d3bd84fd-1009-4312-c25c-61142282aff8"
      },
      "execution_count": null,
      "outputs": [
        {
          "output_type": "execute_result",
          "data": {
            "text/plain": [
              "0.8493200816672445"
            ]
          },
          "metadata": {},
          "execution_count": 114
        }
      ]
    },
    {
      "cell_type": "markdown",
      "source": [
        "Лучшая модель: TfidfVectorizer + LinearSVC"
      ],
      "metadata": {
        "id": "ygnKVd2SW5Cj"
      }
    },
    {
      "cell_type": "code",
      "source": [
        "# подберем параметры TfidfVectorizer\n",
        "pipeline = Pipeline([('vectorizer', TfidfVectorizer()),('classifier', LinearSVC(max_iter=10000))])\n",
        "parameters = {\n",
        "'vectorizer__max_features':[100, 2000],\n",
        "'vectorizer__ngram_range': [(1, 1), (1, 2), (2, 2)],\n",
        "'vectorizer__stop_words': [None, 'english'],\n",
        "'classifier__C':np.arange(0.01,100,10)\n",
        "}"
      ],
      "metadata": {
        "id": "ydll8YT_WU_R"
      },
      "execution_count": null,
      "outputs": []
    },
    {
      "cell_type": "code",
      "source": [
        "grid_search = GridSearchCV(pipeline, parameters)"
      ],
      "metadata": {
        "id": "MrCchF2dX5cy"
      },
      "execution_count": null,
      "outputs": []
    },
    {
      "cell_type": "code",
      "source": [
        "grid_search.fit(X_res,y_res)"
      ],
      "metadata": {
        "colab": {
          "base_uri": "https://localhost:8080/"
        },
        "id": "8knsB6CbZiWw",
        "outputId": "919dddfa-8417-4701-ab52-8ab43ec6a52c"
      },
      "execution_count": null,
      "outputs": [
        {
          "output_type": "execute_result",
          "data": {
            "text/plain": [
              "GridSearchCV(estimator=Pipeline(steps=[('vectorizer', TfidfVectorizer()),\n",
              "                                       ('classifier',\n",
              "                                        LinearSVC(max_iter=10000))]),\n",
              "             param_grid={'classifier__C': array([1.000e-02, 1.001e+01, 2.001e+01, 3.001e+01, 4.001e+01, 5.001e+01,\n",
              "       6.001e+01, 7.001e+01, 8.001e+01, 9.001e+01]),\n",
              "                         'vectorizer__max_features': [100, 2000],\n",
              "                         'vectorizer__ngram_range': [(1, 1), (1, 2), (2, 2)],\n",
              "                         'vectorizer__stop_words': [None, 'english']})"
            ]
          },
          "metadata": {},
          "execution_count": 126
        }
      ]
    },
    {
      "cell_type": "code",
      "source": [
        "grid_search.best_score_"
      ],
      "metadata": {
        "colab": {
          "base_uri": "https://localhost:8080/"
        },
        "id": "N8LQ74RDZ-SQ",
        "outputId": "e9e89371-55b5-47a4-9955-d612e43c2332"
      },
      "execution_count": null,
      "outputs": [
        {
          "output_type": "execute_result",
          "data": {
            "text/plain": [
              "0.8442289764628838"
            ]
          },
          "metadata": {},
          "execution_count": 127
        }
      ]
    },
    {
      "cell_type": "code",
      "source": [
        "# обучаем лучшую модель\n",
        "sub = pd.DataFrame()\n",
        "pipeline = Pipeline([('vectorizer', TfidfVectorizer()),('classifier', LinearSVC(max_iter=10000))])\n",
        "best_model = pipeline.fit(X_res, y_res)"
      ],
      "metadata": {
        "id": "seWnDIZId8dp"
      },
      "execution_count": null,
      "outputs": []
    },
    {
      "cell_type": "code",
      "source": [
        "y_pred = best_model.predict(test.text.values[1:])\n",
        "df = pd.Series(y_pred).to_frame()\n",
        "df.columns = [\"y\"]\n",
        "df.index.name = \"Id\"\n",
        "df.to_csv(\"submission.csv\")"
      ],
      "metadata": {
        "id": "Nr7RpCnRwcSC"
      },
      "execution_count": null,
      "outputs": []
    }
  ]
}