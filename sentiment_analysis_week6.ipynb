{
  "nbformat": 4,
  "nbformat_minor": 0,
  "metadata": {
    "colab": {
      "name": "sentiment_analysis_week6.ipynb",
      "provenance": [],
      "collapsed_sections": [],
      "authorship_tag": "ABX9TyNJzsITGE6GOrQdKWSFnV/O",
      "include_colab_link": true
    },
    "kernelspec": {
      "name": "python3",
      "display_name": "Python 3"
    },
    "language_info": {
      "name": "python"
    }
  },
  "cells": [
    {
      "cell_type": "markdown",
      "metadata": {
        "id": "view-in-github",
        "colab_type": "text"
      },
      "source": [
        "<a href=\"https://colab.research.google.com/github/Komsomolochka/sentiment_analysis/blob/main/sentiment_analysis_week6.ipynb\" target=\"_parent\"><img src=\"https://colab.research.google.com/assets/colab-badge.svg\" alt=\"Open In Colab\"/></a>"
      ]
    },
    {
      "cell_type": "code",
      "execution_count": 303,
      "metadata": {
        "id": "YdPQjZSD3IVB"
      },
      "outputs": [],
      "source": [
        "import requests\n",
        "import bs4\n",
        "from sklearn.feature_extraction.text import CountVectorizer, TfidfTransformer, TfidfVectorizer\n",
        "from sklearn.pipeline import Pipeline\n",
        "from sklearn.linear_model import LogisticRegression, SGDClassifier\n",
        "from sklearn.model_selection import cross_val_score, RandomizedSearchCV\n",
        "from sklearn.svm import LinearSVC\n",
        "from nltk.corpus import stopwords\n",
        "import numpy as np\n",
        "import pandas as pd\n"
      ]
    },
    {
      "cell_type": "code",
      "source": [
        "# создаем парсер\n",
        "X = []\n",
        "y = []\n",
        "for page in range(1,50): #на каждой странице каиалога выбираем названия моделей\n",
        "  url = 'https://hi-tech.mail.ru/mobile_android-catalog/?param5333=68555&page={}'.format(page)\n",
        "  req = requests.get(url)\n",
        "  soup = bs4.BeautifulSoup(req.text, 'lxml')\n",
        "  names = soup.findAll('a', attrs={'class':'p-catalog-card__link link-holder'})\n",
        "  names = list(set(names))\n",
        "  for name in names: #собираем отзывы на каждую модель\n",
        "    print(name['href'])\n",
        "    url = 'https://hi-tech.mail.ru{}otzyvy/#feedback'.format(name['href'])\n",
        "    req = requests.get(url)\n",
        "    soup = bs4.BeautifulSoup(req.text, 'lxml')\n",
        "    reviews = soup.findAll('div', attrs={'class':'p-model-review__text'})\n",
        "    ratings = soup.findAll('div', attrs={'class':'p-model-review__stars'})\n",
        "\n",
        "    for review in reviews:\n",
        "      try:\n",
        "        review.find(text=\"Плюсы\").replaceWith(\"\")\n",
        "      except:\n",
        "        pass\n",
        "      try:\n",
        "        review.find(text=\"Впечатления\").replaceWith(\"\")\n",
        "      except:\n",
        "        pass\n",
        "      try:\n",
        "        review.find(text=\"Минусы\").replaceWith(\"\")\n",
        "      except:\n",
        "        pass\n",
        "      X.append(review.text)\n",
        "\n",
        "    for rating in ratings:\n",
        "      y.append(int(rating.text))\n"
      ],
      "metadata": {
        "colab": {
          "base_uri": "https://localhost:8080/"
        },
        "id": "fb3y_qGEuSYg",
        "outputId": "df388106-c6dd-4197-8c0a-d7683284b4d2"
      },
      "execution_count": 132,
      "outputs": [
        {
          "output_type": "stream",
          "name": "stdout",
          "text": [
            "/xiaomi_mi_10t_8_128gb_14717229-catalog/\n",
            "/xiaomi_poco_x3_nfc_6_128gb_14717821-catalog/\n",
            "/samsung_galaxy_s21_8_128gb_14725009-catalog/\n",
            "/nokia_5_4_4_64gb_14723168-catalog/\n",
            "/huawei_mate_40_pro_8_256gb_14720013-catalog/\n",
            "/samsung_galaxy_z_fold_2_12_256gb_14716835-catalog/\n",
            "/xiaomi_redmi_9a_2_32gb_14710933-catalog/\n",
            "/honor_10x_lite_4_128gb_14720129-catalog/\n",
            "/oppo_a53_4_64gb_14717954-catalog/\n",
            "/xiaomi_poco_m3_4_64gb_14723829-catalog/\n",
            "/xiaomi_poco_m3_4_128gb_14723831-catalog/\n",
            "/nokia_5_4_6_64gb_14723772-catalog/\n",
            "/nokia_c1_plus_1_16gb_14723174-catalog/\n",
            "/honor_20e_4_64gb_14714174-catalog/\n",
            "/samsung_galaxy_s21_8_256gb_14725010-catalog/\n",
            "/honor_30i_4_128gb_14716170-catalog/\n",
            "/xiaomi_mi_11_8_256gb_14726501-catalog/\n",
            "/oppo_a53_4_128gb_14717956-catalog/\n",
            "/nokia_5_4_4_128gb_14723770-catalog/\n",
            "/samsung_galaxy_s21_8_128gb_14725006-catalog/\n",
            "/samsung_galaxy_s21_8_256gb_14725007-catalog/\n",
            "/asus_rog_phone_3_12_256gb_14715734-catalog/\n",
            "/oppo_reno4_pro_5g_12_256gb_14717302-catalog/\n",
            "/oppo_reno4_lite_8_128gb_14717301-catalog/\n",
            "/honor_9s_2_32gb_14693765-catalog/\n",
            "/motorola_g8_plus_4_64gb_14702635-catalog/\n",
            "/xiaomi_redmi_note_9_3_64gb_14701884-catalog/\n",
            "/oppo_a12_3_32gb_14710464-catalog/\n",
            "/oppo_a72_4_128gb_14706552-catalog/\n",
            "/oneplus_8_8_128gb_14692306-catalog/\n",
            "/xiaomi_mi_note_10_lite_6_128gb_14698463-catalog/\n",
            "/samsung_galaxy_a41_4_64gb_14694350-catalog/\n",
            "/honor_9c_4_64gb_14693769-catalog/\n",
            "/samsung_galaxy_a11_2_32gb_14706553-catalog/\n",
            "/moto_g8_4_64gb_14709212-catalog/\n",
            "/huawei_y8p_4_128gb_14701855-catalog/\n",
            "/oppo_a91_8_128gb_14706542-catalog/\n",
            "/huawei_y6p_3_64gb_14701844-catalog/\n",
            "/honor_9a_3_64gb_14693766-catalog/\n",
            "/honor_30_6_128gb_14692308-catalog/\n",
            "/xiaomi_poco_f2_pro_8_256gb_14707364-catalog/\n",
            "/huawei_p40_pro_8_512gb_14707360-catalog/\n",
            "/oppo_a52_4_64gb_14706547-catalog/\n",
            "/huawei_y5p_2_32gb_14695184-catalog/\n",
            "/zte_blade_v2020_4_128gb_14709230-catalog/\n",
            "/samsung_galaxy_a31_4_128gb_14694348-catalog/\n",
            "/samsung_galaxy_a31_4_64gb_14694347-catalog/\n",
            "/samsung_galaxy_note20_8_256gb_14710845-catalog/\n",
            "/sony_xperia_5_6_128gb_14668738-catalog/\n",
            "/xiaomi_redmi_note_9s_4_64gb_14669743-catalog/\n",
            "/honor_8s_2_32gb_14671106-catalog/\n",
            "/oppo_find_x2_12_256gb_14670069-catalog/\n",
            "/nokia_5_3_3_64gb_14672515-catalog/\n",
            "/oppo_a31_4_64gb_14672538-catalog/\n",
            "/huawei_y6_2019_14691328-catalog/\n",
            "/realme_6_pro_8_128gb_14668876-catalog/\n",
            "/samsung_galaxy_z_flip_8_256gb_14668845-catalog/\n",
            "/google_pixel_4_14668759-catalog/\n",
            "/nokia_6_2_3_32gb_14668756-catalog/\n",
            "/huawei_y6s_3_64gb_14670865-catalog/\n",
            "/nokia_1_3_1_16gb_14672528-catalog/\n",
            "/realme_6_4_128gb_14668875-catalog/\n",
            "/honor_7s_2_16gb_14671109-catalog/\n",
            "/zte_blade_20_smart_4_128gb_14668791-catalog/\n",
            "/huawei_p40_lite_e_4_64gb_14670860-catalog/\n",
            "/honor_8a_2_32gb_14668799-catalog/\n",
            "/samsung_galaxy_a71_6_128gb_14668790-catalog/\n",
            "/xiaomi_mi_10_pro_8_256gb_14668849-catalog/\n",
            "/huawei_mate_xs_8_512gb_14687104-catalog/\n",
            "/oppo_reno3_8_128gb_14668807-catalog/\n",
            "/motorola_razr_5g_14668778-catalog/\n",
            "/huawei_p40_8_128gb_14673051-catalog/\n",
            "/samsung_galaxy_a30s_3_32gb_14668712-catalog/\n",
            "/sony_xperia_l3_3_32gb_14668668-catalog/\n",
            "/oneplus_7_8_256gb_14668685-catalog/\n",
            "/zte_blade_v10_4_64gb_14668692-catalog/\n",
            "/oneplus_7t_8_128gb_14668727-catalog/\n",
            "/sony_xperia_10_plus_4_64gb_14668656-catalog/\n",
            "/nokia_3_2_2_16gb_14668662-catalog/\n",
            "/nokia_4_2_3_32gb_14668661-catalog/\n",
            "/nokia_1_plus_1_8gb_14668669-catalog/\n",
            "/xiaomi_redmi_k20_pro_6_64gb_14668695-catalog/\n",
            "/nokia_4_2_2_16gb_14668660-catalog/\n",
            "/honor_9x_premium_6_128gb_14668708-catalog/\n",
            "/xiaomi_black_shark_2_8_128gb_14668676-catalog/\n",
            "/oppo_reno_6_256gb_14668693-catalog/\n",
            "/huawei_mate_x_8_512gb_14668666-catalog/\n",
            "/lg_g8s_thinq_6_64gb_14668655-catalog/\n",
            "/huawei_p_smart_z_4_64gb_14668698-catalog/\n",
            "/samsung_galaxy_a20s_3_32gb_14668728-catalog/\n",
            "/xiaomi_redmi_go_1_8gb_14668670-catalog/\n",
            "/xiaomi_redmi_k20_6_64gb_14668694-catalog/\n",
            "/samsung_galaxy_note10_8_256gb_14668709-catalog/\n",
            "/oppo_reno2_8_256gb_14668735-catalog/\n",
            "/xiaomi_mi_cc9_6_64gb_14668702-catalog/\n",
            "/huawei_mate_30_8_128gb_14668729-catalog/\n",
            "/nokia_2_1_14633873-catalog/\n",
            "/blackberry_key2_128gb_dual_sim_14642692-catalog/\n",
            "/samsung_galaxy_fold_12_512gb_14668645-catalog/\n",
            "/google_pixel_3_64gb_14656865-catalog/\n",
            "/vivo_v9_14605449-catalog/\n",
            "/huawei_mate_20_pro_256gb_14658183-catalog/\n",
            "/oppo_rx17_neo_14663326-catalog/\n",
            "/huawei_y9_2019_128gb_14657880-catalog/\n",
            "/honor_7a_2gb_32gb_14595600-catalog/\n",
            "/xiaomi_black_shark_128gb_14650019-catalog/\n",
            "/samsung_galaxy_s9_256gb_14616888-catalog/\n",
            "/vivo_y71_14625301-catalog/\n",
            "/google_pixel_3_xl_64gb_14646537-catalog/\n",
            "/nokia_3_1_plus_16gb_14657116-catalog/\n",
            "/huawei_y6_2018_14600612-catalog/\n",
            "/vivo_y85_32_gb_14654409-catalog/\n",
            "/xiaomi_black_shark_64gb_14600953-catalog/\n",
            "/samsung_galaxy_s9_128gb_14616887-catalog/\n",
            "/nokia_7_1_64gb_14655744-catalog/\n",
            "/huawei_mate_20x_256gb_14658190-catalog/\n",
            "/huawei_mate_20_rs_256gb_14658193-catalog/\n",
            "/nokia_5_1_32gb_14633877-catalog/\n",
            "/vivo_y53_14578693-catalog/\n",
            "/vivo_x21_128gb_14644696-catalog/\n"
          ]
        }
      ]
    },
    {
      "cell_type": "code",
      "source": [
        "# сохраняем результат\n",
        "train_data = pd.DataFrame()\n",
        "train_data['review'] = X\n",
        "train_data['rating'] = y\n",
        "train_data.to_csv(\"train_data.csv\")"
      ],
      "metadata": {
        "id": "O_pz6B_OToTh"
      },
      "execution_count": 135,
      "outputs": []
    },
    {
      "cell_type": "code",
      "source": [
        "# удаляем отзывы с рейтингом 3, 1 и 2 меняем на 0, 4 и 5 на 1\n",
        "train_data = train_data.loc[train_data['rating']!=3]\n",
        "train_data['rating'] = train_data['rating'].apply(lambda x: 0 if x in [1,2] else 1)"
      ],
      "metadata": {
        "colab": {
          "base_uri": "https://localhost:8080/"
        },
        "id": "rP685hAB37XE",
        "outputId": "c3390736-e613-49e2-ee53-b11b9face1e1"
      },
      "execution_count": 315,
      "outputs": [
        {
          "output_type": "stream",
          "name": "stderr",
          "text": [
            "/usr/local/lib/python3.7/dist-packages/ipykernel_launcher.py:4: SettingWithCopyWarning: \n",
            "A value is trying to be set on a copy of a slice from a DataFrame.\n",
            "Try using .loc[row_indexer,col_indexer] = value instead\n",
            "\n",
            "See the caveats in the documentation: https://pandas.pydata.org/pandas-docs/stable/user_guide/indexing.html#returning-a-view-versus-a-copy\n",
            "  after removing the cwd from sys.path.\n"
          ]
        }
      ]
    },
    {
      "cell_type": "code",
      "source": [
        "# импортируем тестовые данные\n",
        "import codecs\n",
        "with codecs.open('test.csv', 'rb', encoding='utf8') as f: # придется применить кодирование в utf8\n",
        "    data = f.read()\n",
        "\n",
        "test = [review.text for review in bs4.BeautifulSoup(data, 'lxml').find_all('review')]"
      ],
      "metadata": {
        "id": "t18R7BMCD_AU"
      },
      "execution_count": 316,
      "outputs": []
    },
    {
      "cell_type": "code",
      "source": [
        "texts = list(train_data['review'])\n",
        "labels = list(train_data['rating'])"
      ],
      "metadata": {
        "id": "Qv1ph3532VF3"
      },
      "execution_count": 317,
      "outputs": []
    },
    {
      "cell_type": "code",
      "source": [
        "# чистим текст\n",
        "texts = [i.replace('\\n', ' ').replace('\\r', '').replace('\\t', ' ').replace('<br />', ' ').replace('<br>', ' ')\n",
        "               if len(i.split()) > 1\n",
        "               else i.replace('\\n', ' ').replace('\\r', '').replace('\\t', ' ').replace('<br />', ' ').replace('<br>', ' ')\n",
        "               for i in texts]"
      ],
      "metadata": {
        "id": "Mf10SX2h1xk4"
      },
      "execution_count": 318,
      "outputs": []
    },
    {
      "cell_type": "code",
      "source": [
        "# удаляем дубликаты\n",
        "train_data.drop_duplicates(inplace = True)"
      ],
      "metadata": {
        "id": "u-53jPdg1xnp"
      },
      "execution_count": 319,
      "outputs": []
    },
    {
      "cell_type": "code",
      "source": [
        "# удаляем отзывы, содержащие только 1 слово\n",
        "d = {item: idx  for idx, item in enumerate(list(train_data.review)) if len(item.split())==1 }\n",
        "train_data.drop(train_data.index[list(d.values())], inplace=True)"
      ],
      "metadata": {
        "id": "6Wf1YcVMVbsU"
      },
      "execution_count": 322,
      "outputs": []
    },
    {
      "cell_type": "code",
      "source": [
        "# проверим баланс классов\n",
        "train_data['rating'].value_counts()"
      ],
      "metadata": {
        "colab": {
          "base_uri": "https://localhost:8080/"
        },
        "id": "REX_wcZC2_aN",
        "outputId": "4f74279c-df92-4d42-94ba-09f54e959dcd"
      },
      "execution_count": 323,
      "outputs": [
        {
          "output_type": "execute_result",
          "data": {
            "text/plain": [
              "1    2858\n",
              "0     208\n",
              "Name: rating, dtype: int64"
            ]
          },
          "metadata": {},
          "execution_count": 323
        }
      ]
    },
    {
      "cell_type": "code",
      "source": [
        "# балансируем классы\n",
        "train_data = pd.concat([train_data[train_data['rating'] == 1], \n",
        "                        train_data[train_data['rating'] == 0],\n",
        "                        train_data[train_data['rating'] == 0],\n",
        "                        train_data[train_data['rating'] == 0],\n",
        "                        train_data[train_data['rating'] == 0],\n",
        "                        train_data[train_data['rating'] == 0],\n",
        "                        train_data[train_data['rating'] == 0],\n",
        "                        train_data[train_data['rating'] == 0],\n",
        "                        train_data[train_data['rating'] == 0],\n",
        "                        train_data[train_data['rating'] == 0],\n",
        "                        train_data[train_data['rating'] == 0],\n",
        "                        train_data[train_data['rating'] == 0],\n",
        "                        train_data[train_data['rating'] == 0],\n",
        "                        train_data[train_data['rating'] == 0],\n",
        "]\n",
        "                      )"
      ],
      "metadata": {
        "id": "o-kpOuL93Rhj"
      },
      "execution_count": 324,
      "outputs": []
    },
    {
      "cell_type": "code",
      "source": [
        "train_data['rating'].value_counts()"
      ],
      "metadata": {
        "colab": {
          "base_uri": "https://localhost:8080/"
        },
        "id": "X81eBeHS3RkX",
        "outputId": "67a4370f-7f83-422a-f3ec-b21b13aa4056"
      },
      "execution_count": 325,
      "outputs": [
        {
          "output_type": "execute_result",
          "data": {
            "text/plain": [
              "1    2858\n",
              "0    2704\n",
              "Name: rating, dtype: int64"
            ]
          },
          "metadata": {},
          "execution_count": 325
        }
      ]
    },
    {
      "cell_type": "code",
      "source": [
        "# строим модели\n",
        "vectorizers = [TfidfVectorizer, CountVectorizer]\n",
        "classifiers = [LogisticRegression, LinearSVC]\n",
        "\n",
        "for c in classifiers:\n",
        "    for v in vectorizers:\n",
        "        model = Pipeline([(\"vectorizer\", v()), (\"classifier\", c())])\n",
        "        print(str(c().__class__.__name__) + ' ' + str(v().__class__.__name__))\n",
        "        print(cross_val_score(model, texts, labels, scoring='accuracy', cv = 5).mean())\n",
        "        print"
      ],
      "metadata": {
        "colab": {
          "base_uri": "https://localhost:8080/"
        },
        "id": "E2i0xTSP3Rn9",
        "outputId": "1610e988-4ce6-44f8-870c-addfead27b46"
      },
      "execution_count": 326,
      "outputs": [
        {
          "output_type": "stream",
          "name": "stdout",
          "text": [
            "LogisticRegression TfidfVectorizer\n",
            "0.9308855979759935\n",
            "LogisticRegression CountVectorizer\n",
            "0.9339729688599745\n",
            "LinearSVC TfidfVectorizer\n",
            "0.9358233940154843\n",
            "LinearSVC CountVectorizer\n",
            "0.9253314691167798\n"
          ]
        }
      ]
    },
    {
      "cell_type": "code",
      "source": [
        "# добавляем n-граммы\n",
        "for c in classifiers:\n",
        "    for v in vectorizers:\n",
        "        model = Pipeline([(\"vectorizer\", v(ngram_range=(1, 2))), (\"classifier\", c())])\n",
        "        print(str(c().__class__.__name__) + ' ' + str(v().__class__.__name__))\n",
        "        print(cross_val_score(model, texts, labels, scoring='accuracy', cv = 5).mean())\n",
        "        print"
      ],
      "metadata": {
        "colab": {
          "base_uri": "https://localhost:8080/"
        },
        "id": "cgCEnvhU4U24",
        "outputId": "fa033e35-dca4-422d-a401-5fbd7e8d56a6"
      },
      "execution_count": 327,
      "outputs": [
        {
          "output_type": "stream",
          "name": "stdout",
          "text": [
            "LogisticRegression TfidfVectorizer\n",
            "0.9308855979759935\n",
            "LogisticRegression CountVectorizer\n",
            "0.9358229184500372\n",
            "LinearSVC TfidfVectorizer\n",
            "0.9385997450969203\n",
            "LinearSVC CountVectorizer\n",
            "0.931503357492058\n"
          ]
        }
      ]
    },
    {
      "cell_type": "code",
      "source": [
        "  import nltk\n",
        "  nltk.download('stopwords')"
      ],
      "metadata": {
        "colab": {
          "base_uri": "https://localhost:8080/"
        },
        "id": "NJxdRwpA4i6K",
        "outputId": "9c592bc6-d994-44e2-c2ef-65a0b1f6f51d"
      },
      "execution_count": 328,
      "outputs": [
        {
          "output_type": "stream",
          "name": "stdout",
          "text": [
            "[nltk_data] Downloading package stopwords to /root/nltk_data...\n",
            "[nltk_data]   Package stopwords is already up-to-date!\n"
          ]
        },
        {
          "output_type": "execute_result",
          "data": {
            "text/plain": [
              "True"
            ]
          },
          "metadata": {},
          "execution_count": 328
        }
      ]
    },
    {
      "cell_type": "code",
      "source": [
        "# добавляем стоп-слова\n",
        "for c in classifiers:\n",
        "    for v in vectorizers:\n",
        "        model = Pipeline([(\"vectorizer\", v(ngram_range=(1, 2), stop_words=stopwords.words('russian'))), (\"classifier\", c())])\n",
        "        print(str(c().__class__.__name__) + ' ' + str(v().__class__.__name__))\n",
        "        print(cross_val_score(model, texts, labels, scoring='accuracy', cv = 5).mean())\n",
        "        print"
      ],
      "metadata": {
        "colab": {
          "base_uri": "https://localhost:8080/"
        },
        "id": "pLPbfsQs4kmO",
        "outputId": "8aaa7796-2a47-43b6-97bd-abc319bc7849"
      },
      "execution_count": 329,
      "outputs": [
        {
          "output_type": "stream",
          "name": "stdout",
          "text": [
            "LogisticRegression TfidfVectorizer\n",
            "0.931194239951302\n",
            "LogisticRegression CountVectorizer\n",
            "0.9311942399513022\n",
            "LinearSVC TfidfVectorizer\n",
            "0.933044665106812\n",
            "LinearSVC CountVectorizer\n",
            "0.930577431566132\n"
          ]
        }
      ]
    },
    {
      "cell_type": "code",
      "source": [
        "# подбираем параметры\n",
        "clf = Pipeline([('vectorizer', TfidfVectorizer()), ('classifier', LinearSVC())])"
      ],
      "metadata": {
        "id": "KQmPHwve6mx3"
      },
      "execution_count": 330,
      "outputs": []
    },
    {
      "cell_type": "code",
      "source": [
        "params = {\n",
        "    'vectorizer__ngram_range': [(1, 1), (1, 2), (1, 3)],\n",
        "    'vectorizer__stop_words': [stopwords.words('russian'), None],\n",
        "    'classifier__C': [0.9, 1.0, 1.1, 1.2]\n",
        "}"
      ],
      "metadata": {
        "id": "QsmfUslj6Gel"
      },
      "execution_count": 331,
      "outputs": []
    },
    {
      "cell_type": "code",
      "source": [
        "grid_cv = RandomizedSearchCV(clf, params, n_iter = 1000, scoring = 'accuracy', n_jobs=-1)"
      ],
      "metadata": {
        "id": "OGc2D1tu46qP"
      },
      "execution_count": 332,
      "outputs": []
    },
    {
      "cell_type": "code",
      "source": [
        "%%time\n",
        "grid_cv.fit(texts, labels)"
      ],
      "metadata": {
        "colab": {
          "base_uri": "https://localhost:8080/"
        },
        "id": "GvtMom-V46tR",
        "outputId": "35af6336-fb28-4635-cfe2-d0a8c091281e"
      },
      "execution_count": 333,
      "outputs": [
        {
          "output_type": "stream",
          "name": "stderr",
          "text": [
            "/usr/local/lib/python3.7/dist-packages/sklearn/model_selection/_search.py:296: UserWarning: The total space of parameters 24 is smaller than n_iter=1000. Running 24 iterations. For exhaustive searches, use GridSearchCV.\n",
            "  UserWarning,\n"
          ]
        },
        {
          "output_type": "stream",
          "name": "stdout",
          "text": [
            "CPU times: user 5.66 s, sys: 144 ms, total: 5.81 s\n",
            "Wall time: 29.7 s\n"
          ]
        },
        {
          "output_type": "execute_result",
          "data": {
            "text/plain": [
              "RandomizedSearchCV(estimator=Pipeline(steps=[('vectorizer', TfidfVectorizer()),\n",
              "                                             ('classifier', LinearSVC())]),\n",
              "                   n_iter=1000, n_jobs=-1,\n",
              "                   param_distributions={'classifier__C': [0.9, 1.0, 1.1, 1.2],\n",
              "                                        'vectorizer__ngram_range': [(1, 1),\n",
              "                                                                    (1, 2),\n",
              "                                                                    (1, 3)],\n",
              "                                        'vectorizer__stop_words': [['и', 'в',\n",
              "                                                                    'во', 'не',\n",
              "                                                                    'что', 'он',\n",
              "                                                                    'на', 'я',\n",
              "                                                                    'с', 'со',\n",
              "                                                                    'как', 'а',\n",
              "                                                                    'то', 'все',\n",
              "                                                                    'она',\n",
              "                                                                    'так',\n",
              "                                                                    'его', 'но',\n",
              "                                                                    'да', 'ты',\n",
              "                                                                    'к', 'у',\n",
              "                                                                    'же', 'вы',\n",
              "                                                                    'за', 'бы',\n",
              "                                                                    'по',\n",
              "                                                                    'только',\n",
              "                                                                    'ее', 'мне', ...],\n",
              "                                                                   None]},\n",
              "                   scoring='accuracy')"
            ]
          },
          "metadata": {},
          "execution_count": 333
        }
      ]
    },
    {
      "cell_type": "code",
      "source": [
        "print(grid_cv.best_params_)"
      ],
      "metadata": {
        "colab": {
          "base_uri": "https://localhost:8080/"
        },
        "id": "CqNk5piP7E55",
        "outputId": "31a1f1f1-bc1f-4e6a-e03c-c24a01645092"
      },
      "execution_count": 334,
      "outputs": [
        {
          "output_type": "stream",
          "name": "stdout",
          "text": [
            "{'vectorizer__stop_words': None, 'vectorizer__ngram_range': (1, 2), 'classifier__C': 1.2}\n"
          ]
        }
      ]
    },
    {
      "cell_type": "code",
      "source": [
        "print(grid_cv.best_score_)"
      ],
      "metadata": {
        "colab": {
          "base_uri": "https://localhost:8080/"
        },
        "id": "4AKaTVbW7RTY",
        "outputId": "69bf6104-7a98-4195-9e8b-fcb5ce19f066"
      },
      "execution_count": 335,
      "outputs": [
        {
          "output_type": "stream",
          "name": "stdout",
          "text": [
            "0.9389088626376763\n"
          ]
        }
      ]
    },
    {
      "cell_type": "code",
      "source": [
        "pred = grid_cv.best_estimator_.fit(texts,labels).predict(test)"
      ],
      "metadata": {
        "id": "8A4JHIk37TaD"
      },
      "execution_count": 336,
      "outputs": []
    },
    {
      "cell_type": "code",
      "source": [
        "sub = pd.Series(pred).apply(lambda x: 'neg' if x == 0 else 'pos')\n",
        "df = sub.to_frame()\n",
        "df.columns = [\"y\"]\n",
        "df.index.name = \"Id\"\n",
        "df.to_csv(\"submission.csv\")"
      ],
      "metadata": {
        "id": "86MdRUDV46ni"
      },
      "execution_count": 337,
      "outputs": []
    }
  ]
}